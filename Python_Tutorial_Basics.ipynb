{
 "cells": [
  {
   "cell_type": "markdown",
   "id": "fd1558ab",
   "metadata": {},
   "source": [
    "# Python Tutorial"
   ]
  },
  {
   "cell_type": "markdown",
   "id": "ef69d6ae",
   "metadata": {},
   "source": [
    "## Kurzhinweise\n",
    "Sie können eine Zelle ausführen, indem Sie in die Zelle klicken und dann \"Shift + Enter\" drücken.\n",
    "\n",
    "Bitte führen Sie die Zellen nacheinander aus, da einige Zellen auf den Input vorheriger Zellen angewiesen sind. Falls Sie \"mitten im Notebook\" anfangen werden Sie das aber ggf. merken, wenn Sie eine Fehlermeldung erhalten.\n",
    "\n",
    "Die nächste Zelle bitte ausführen aber **nicht** verändern. Sie sorgt für das Layout des Notebooks."
   ]
  },
  {
   "cell_type": "code",
   "execution_count": null,
   "id": "f1e0dc72",
   "metadata": {},
   "outputs": [],
   "source": [
    "from IPython.core.display import HTML\n",
    "\n",
    "def _set_css_style(css_file_path):\n",
    "   \"\"\"\n",
    "   Read the custom CSS file and load it into Jupyter.\n",
    "   Pass the file path to the CSS file.\n",
    "   \"\"\"\n",
    "\n",
    "   styles = open(css_file_path, \"r\").read()\n",
    "   s = '<style>%s</style>' % styles     \n",
    "   return HTML(s)\n",
    "\n",
    "_set_css_style('assets/styles.css')"
   ]
  },
  {
   "cell_type": "markdown",
   "id": "e8df9a6c-bf9d-466d-a797-82ae40bdd2f2",
   "metadata": {},
   "source": [
    "## Jupyter Notebook"
   ]
  },
  {
   "cell_type": "markdown",
   "id": "bd7ccd74-00b4-4cdc-af27-6e7a997de9ce",
   "metadata": {},
   "source": [
    "<div class=\"fancy-box definition\">\n",
    "<div class=\"fancy-box__img\"></div>\n",
    "<div class=\"fancy-box__text\">\n",
    "Notebook-Dokumente sind von der Jupyter Notebook App erstellte Dokumente, die sowohl Computercode (z. B. Python) als auch Rich-Text-Elemente (Absätze, Gleichungen, Abbildungen, Links usw.) enthalten. Notebook-Dokumente sind sowohl von Menschen lesbare Dokumente enthalten (z. B. Beschreibungen, Abbildungen, Tablellen, etc.), als auch ausführbaren Code, der zur Durchführung der Datenanalyse ausgeführt werden können.\n",
    "</div>\n",
    "<div class=\"fancy-box__img\"></div>\n",
    "</div>"
   ]
  },
  {
   "cell_type": "markdown",
   "id": "5acce43f-a185-4d62-9a5c-26e03772b366",
   "metadata": {},
   "source": [
    "# Agenda\n",
    "\n",
    "1) <a href=#bookmark1>Hallo Welt</a><br></br>\n",
    "2) <a href=#bookmark2>Variablen und Typen</a><br></br>\n",
    "3) <a href=#bookmark3>Listen</a><br></br>\n",
    "4) <a href=#bookmark4>Kontrollstrukturen</a><br></br>"
   ]
  },
  {
   "cell_type": "markdown",
   "id": "da5ec909-e40f-4f7d-b423-ac4ff4099636",
   "metadata": {},
   "source": [
    "<div class=\"fancy-box definition\">\n",
    "<div class=\"fancy-box__img\"></div>\n",
    "<div class=\"fancy-box__text\">\n",
    "Python ist eine sehr einfache Sprache und hat eine sehr einfache Syntax.\n",
    "Die einfachste Anweisung in Python ist die \"print\"-Anweisung - sie gibt lediglich eine Zeile aus. Es gibt zwei große Python-Versionen, Python 2 und Python 3. Hier arbeiten wird mit Python 3, da es weiter verbreitet ist und neuere Funktionen unterstützt.\n",
    "</div>\n",
    "<div class=\"fancy-box__img\"></div>\n",
    "</div>"
   ]
  },
  {
   "cell_type": "markdown",
   "id": "499ea762-a86b-4ffc-9908-cfe4d74f4f59",
   "metadata": {},
   "source": [
    "## Hallo Welt <a name='bookmark1' />"
   ]
  },
  {
   "cell_type": "markdown",
   "id": "22cb1a36-5fee-41b6-9c1e-c0f6bb63c1c9",
   "metadata": {},
   "source": [
    "<div class=\"fancy-box python\">\n",
    "<div class=\"fancy-box__img\"></div>\n",
    "<div class=\"fancy-box__text\">\n",
    "In Python 3 ist die \"print\"-Anweisung eine Funktion und wird daher mit Klammern aufgerufen. Um eine Zeichenkette in Python 3 zu drucken, müssen Sie die Funktion <code>print</code> mit ihrem Text als Argument (Inhalt der Klammern) aufrufen:\n",
    "</div>\n",
    "<div class=\"fancy-box__img\"></div>\n",
    "</div>"
   ]
  },
  {
   "cell_type": "code",
   "execution_count": null,
   "id": "18863ed6-fcd9-44b4-bc4d-03170490b912",
   "metadata": {},
   "outputs": [],
   "source": [
    "# Geben Sie \"Hallo Welt\" aus\n",
    "print(\"Hallo Welt\")\n",
    "print('Hallo Welt')\n",
    "'Hallo Welt 2'"
   ]
  },
  {
   "cell_type": "markdown",
   "id": "a90f52fb-9c04-43fb-a091-acf5e85010d4",
   "metadata": {},
   "source": [
    "## Variablen und Typen <a name='bookmark2' />"
   ]
  },
  {
   "cell_type": "markdown",
   "id": "54363eb7-c7b0-4165-8c43-eafa550d52d9",
   "metadata": {},
   "source": [
    "<div class=\"fancy-box definition\">\n",
    "<div class=\"fancy-box__img\"></div>\n",
    "<div class=\"fancy-box__text\">\n",
    "In Python braucht man sich nicht mit der Deklaration von Variablen zu beschäftigen. Der \"Typ\" der Variable ergibt sich durch die Zuweisung eines speziellen Wertes.\n",
    "</div>\n",
    "<div class=\"fancy-box__img\"></div>\n",
    "</div>"
   ]
  },
  {
   "cell_type": "markdown",
   "id": "197bfa14-12ea-49f8-a932-d485d66654be",
   "metadata": {},
   "source": [
    "### Zahlen"
   ]
  },
  {
   "cell_type": "markdown",
   "id": "89736f75-dd4a-4546-aec4-eaaaf2a6f070",
   "metadata": {},
   "source": [
    "<div class=\"fancy-box definition\">\n",
    "<div class=\"fancy-box__img\"></div>\n",
    "<div class=\"fancy-box__text\">\n",
    "Python unterstützt zwei Arten von Zahlen - ganze Zahlen (integers) und Fließkommazahlen (decimals). (Es unterstützt auch komplexe Zahlen, die hier nicht behandelt werden).<br></br>\n",
    "    Um einer Variable einen Wert zuzuweisen genügt die Syntax <i>Variablenname</i> = <i>Variablenwert</i>\n",
    "</div>\n",
    "<div class=\"fancy-box__img\"></div>\n",
    "</div>"
   ]
  },
  {
   "cell_type": "markdown",
   "id": "0d869035-565d-4e27-8fb6-8ea18f203c9e",
   "metadata": {},
   "source": [
    "<div class=\"fancy-box python\">\n",
    "<div class=\"fancy-box__img\"></div>\n",
    "<div class=\"fancy-box__text\">\n",
    "        Weisen sie zwei unterschiedlichen Variablen jeweils einen Wert zu und geben Sie diese aus. Probieren Sie die Grundrechenarten aus und geben Sie das Ergebnis aus. Mit der Funktion <code>type()</code> kann man sich den Typ einer Variable ausgeben lassen. Probieren Sie dies mit Ihrer definierten Variable.\n",
    "</div>\n",
    "<div class=\"fancy-box__img\"></div>\n",
    "</div>"
   ]
  },
  {
   "cell_type": "code",
   "execution_count": null,
   "id": "b5837c5b-65d3-4215-8db1-0020c5d0893b",
   "metadata": {},
   "outputs": [],
   "source": [
    "a = 2\n",
    "print(a)\n",
    "b = 3.5\n",
    "print(b)\n",
    "summe = a + b\n",
    "potenz = a**b\n",
    "quotient = a/b\n",
    "differenz = a - b\n",
    "\n",
    "print(summe)\n",
    "print(potenz)\n",
    "print(quotient)\n",
    "print(differenz)\n",
    "text = \"Hallo Welt\""
   ]
  },
  {
   "cell_type": "code",
   "execution_count": null,
   "id": "e1b32712-9608-4784-aedd-401207eb84b9",
   "metadata": {},
   "outputs": [],
   "source": [
    "print(type(a), type(b), type(quotient), type(text))"
   ]
  },
  {
   "cell_type": "code",
   "execution_count": null,
   "id": "1ba38057-445e-4223-83dd-ad2bdb4d5082",
   "metadata": {},
   "outputs": [],
   "source": [
    "print(type(a+b))"
   ]
  },
  {
   "cell_type": "markdown",
   "id": "91dd1fa3-4ba8-4f2f-af35-84d47847168f",
   "metadata": {},
   "source": [
    "### Strings"
   ]
  },
  {
   "cell_type": "markdown",
   "id": "0af4cab3-84fe-4bba-8f7f-eb3a26aad349",
   "metadata": {},
   "source": [
    "<div class=\"fancy-box definition\">\n",
    "<div class=\"fancy-box__img\"></div>\n",
    "<div class=\"fancy-box__text\">\n",
    "Ein Text wird in Python entweder mit einem Apostroph oder Anführungszeichen definiert. Der Unterschied zwischen den beiden besteht darin, dass die Verwendung von Anführungszeichen das Einfügen eines Apostrophs erleichtert (während diese bei der Verwendung von einfachen Anführungszeichen die Zeichenfolge abschließen würden)\n",
    "</div>\n",
    "<div class=\"fancy-box__img\"></div>\n",
    "</div>"
   ]
  },
  {
   "cell_type": "markdown",
   "id": "1d06c25f-da5d-40df-a940-139f607aab7b",
   "metadata": {},
   "source": [
    "<div class=\"fancy-box python\">\n",
    "<div class=\"fancy-box__img\"></div>\n",
    "<div class=\"fancy-box__text\">\n",
    "        Weisen sie einer Variablen einen Text zu und geben Sie diese aus.</br> Probieren Sie einfache Operationen (+, -) mit den Variablen aus. Was passiert bei der Mischung von Text und Zahl?\n",
    "</div>\n",
    "<div class=\"fancy-box__img\"></div>\n",
    "</div>"
   ]
  },
  {
   "cell_type": "code",
   "execution_count": null,
   "id": "8ec2e0b2-089f-43fb-9ddc-dacdba500dcc",
   "metadata": {},
   "outputs": [],
   "source": [
    "# oben haben wir die Variable text (typ string) definiert und die Variable a (typ int)\n",
    "text_2 = \"Welcome to programming\"\n",
    "print(text_2+\": \"+text)\n",
    "print(text+a)"
   ]
  },
  {
   "cell_type": "markdown",
   "id": "acc38f2d-b842-454d-8ad3-ea7adc32958a",
   "metadata": {},
   "source": [
    "<div class=\"fancy-box python\">\n",
    "<div class=\"fancy-box__img\"></div>\n",
    "<div class=\"fancy-box__text\">\n",
    "Mit der Funktion <code>str()</code> können Zahlen ebenfalls in Strings umgewandelt werden. Probieren Sie es aus und überprüfen Sie den Datentyp.\n",
    "</div>\n",
    "<div class=\"fancy-box__img\"></div>\n",
    "</div>"
   ]
  },
  {
   "cell_type": "code",
   "execution_count": null,
   "id": "c2df67f4-f90f-4e4c-8071-aac48ce8a484",
   "metadata": {},
   "outputs": [],
   "source": [
    "int2str = str(a)\n",
    "print(type(int2str))\n",
    "print(text+str(a))\n",
    "print(text+\" jetzt kommt unserer umgewandelte Variable a:\"+int2str)"
   ]
  },
  {
   "cell_type": "markdown",
   "id": "950a1583-64c2-4ae4-88e8-5693ca67b46f",
   "metadata": {},
   "source": [
    "<div class=\"fancy-box question\">\n",
    "<div class=\"fancy-box__img\"></div>\n",
    "<div class=\"fancy-box__text\">\n",
    "Welche der folgenden Codezeilen ist ein gültiges Python-Programm, welches bei der Ausführung keinen Fehler erzeugt?\n",
    "\n",
    "- A) `print(\"Dein Guthaben beträgt \" & str(50) & \" Cent.\")`\n",
    "- B) `print(\"Du hast nur noch \" + str(10) + \"€ auf dem Konto.\")`\n",
    "- C) `print(\"Du hast \" + 50000 + \"€ gewonnen.\")`\n",
    "- D) `print(String(Du hast Schulden.))`\n",
    "</div>\n",
    "<div class=\"fancy-box__img\"></div>\n",
    "</div>"
   ]
  },
  {
   "cell_type": "code",
   "execution_count": null,
   "id": "50a91629-a1b8-4f69-a8ba-39ddf7f7856e",
   "metadata": {},
   "outputs": [],
   "source": []
  },
  {
   "cell_type": "markdown",
   "id": "f4321014-22be-4f9b-922c-f55efa6f98e0",
   "metadata": {},
   "source": [
    "<div class=\"fancy-box python\">\n",
    "<div class=\"fancy-box__img\"></div>\n",
    "<div class=\"fancy-box__text\">\n",
    "Automatisieren Sie das Folgende in Python: \n",
    "\n",
    "1. Denke dir eine Zahl aus (Variable `number`).\n",
    "2. Multipliziere sie mit 2.\n",
    "3. Addiere 10 zum Ergebnis.\n",
    "4. Teile das Ergebnis durch 2.<br>\n",
    " Führen Sie diese Rechnung  für die Variable _number_ durch und gebe das Ergebnis ohne Nachkommastelle aus. \n",
    "</div>\n",
    "<div class=\"fancy-box__img\"></div>\n",
    "</div>"
   ]
  },
  {
   "cell_type": "code",
   "execution_count": null,
   "id": "97537028-a227-4031-8621-89a990225847",
   "metadata": {},
   "outputs": [],
   "source": [
    "number = 1\n",
    "multiplikation = number*2\n",
    "addition = multiplikation + 10\n",
    "division = addition/2\n",
    "print(\"Ergebnis:\"+str(int(division)))"
   ]
  },
  {
   "cell_type": "code",
   "execution_count": null,
   "id": "7558cda2-9b41-4241-ba66-3e1eb4481f51",
   "metadata": {},
   "outputs": [],
   "source": [
    "number = int(input())\n",
    "erg = (number * 2 + 10)/2\n",
    "print(str(int(erg)))"
   ]
  },
  {
   "cell_type": "markdown",
   "id": "b84af485-4009-4066-b9d7-e01084eb8dc5",
   "metadata": {},
   "source": [
    "## Listen <a name='bookmark3' />"
   ]
  },
  {
   "cell_type": "markdown",
   "id": "32d84e70-2219-4dc5-86f2-89258bc89789",
   "metadata": {},
   "source": [
    "<div class=\"fancy-box definition\">\n",
    "<div class=\"fancy-box__img\"></div>\n",
    "<div class=\"fancy-box__text\">\n",
    "Bislang haben Sie jeder Variable genau einen Wert (Zahl oder String) zugewiesen. Listen können beliebig viele Werte oder Variablen enthalten. Auch Variablentypen können gemischt in einer Liste abgespeichert werden.\n",
    "</div>\n",
    "<div class=\"fancy-box__img\"></div>\n",
    "</div>"
   ]
  },
  {
   "cell_type": "markdown",
   "id": "7a2d796a-49df-4c4a-ac96-49056d4806c3",
   "metadata": {},
   "source": [
    "<div class=\"fancy-box python\">\n",
    "<div class=\"fancy-box__img\"></div>\n",
    "<div class=\"fancy-box__text\">\n",
    "        Die Syntax zur Definition einer Liste sieht wie folgt aus: <code>listenname = [e1, e2, e3, ...]</code>. Definieren Sie ihre eigene Liste und geben Sie diese aus.\n",
    "</div>\n",
    "<div class=\"fancy-box__img\"></div>\n",
    "</div>"
   ]
  },
  {
   "cell_type": "code",
   "execution_count": null,
   "id": "248bcfce-e8cf-4a41-9a9f-a2cdcac2ad31",
   "metadata": {},
   "outputs": [],
   "source": [
    "liste = [1,2,3]\n",
    "print(liste)\n",
    "print(type(liste))\n",
    "woerter = [\"Python\", \"lernen\", \"macht\", \"Spaß\"]\n",
    "print(woerter)"
   ]
  },
  {
   "cell_type": "markdown",
   "id": "0b40d05c-81bd-4151-9241-04246c8cb088",
   "metadata": {},
   "source": [
    "### Listenoperationen"
   ]
  },
  {
   "cell_type": "markdown",
   "id": "8776a294-0af9-4dda-9332-477daddc19d3",
   "metadata": {},
   "source": [
    "<div class=\"fancy-box definition\">\n",
    "<div class=\"fancy-box__img\"></div>\n",
    "<div class=\"fancy-box__text\">\n",
    "Auf einzelne Elemente einer Liste kann einzel zugegriffen werden. Per <b>Index</b> kann ein Element über seine Position in der Liste angesprochen werden. <i>Hinweis: Stellen Sie sich hierfür vor, die Elemente wären von 0,...,n durchnummeriert</i>. Ebenso können einzelne Elemente aus einer Liste entfernt oder angehängt werden.\n",
    "</div>\n",
    "<div class=\"fancy-box__img\"></div>\n",
    "</div>\n"
   ]
  },
  {
   "cell_type": "markdown",
   "id": "7787eb12-cc44-475b-b947-2f83a3ac7a87",
   "metadata": {},
   "source": [
    "<div class=\"fancy-box python\">\n",
    "<div class=\"fancy-box__img\"></div>\n",
    "<div class=\"fancy-box__text\">\n",
    "Einige Syntax zum Thema Listen:<br>\n",
    "    <li>Auswahl eines Elements: <code>listenname[index]</code></li>\n",
    "    <li>Auswahl mehrere Elemente (Slicing): <code>listenname[index1:index2]</code></li>\n",
    "    <li>Element anhängen: <code>listenname.append()</code></li>\n",
    "    <li>Element einfügen: <code>listenname.insert()</code></li>\n",
    "    <li> Element löschen: <code>listenname.remove(element)</code></li>\n",
    "    <li> Element löschen: <code>listenname.pop(index)</code></li>\n",
    "    <li>Länge einer Liste bestimmen: <code>len(listenname)</code></li></br>\n",
    "Probieren Sie es doch einmal aus.<br>\n",
    "<i>Hinweis 1: bzgl. der genauen Funktionsaufrufe schaue Sie bitte in die Dokumentation.</i><br>\n",
    "<i>Hinweis 2: Slicing funktioniert auch mit Strings.</i><br>\n",
    "</div>\n",
    "<div class=\"fancy-box__img\"></div>\n",
    "</div>"
   ]
  },
  {
   "cell_type": "code",
   "execution_count": null,
   "id": "d0b12004-33af-43db-9730-d221ed172b17",
   "metadata": {},
   "outputs": [],
   "source": [
    "woerter"
   ]
  },
  {
   "cell_type": "code",
   "execution_count": null,
   "id": "7845a981-f191-4336-944c-7312288f9472",
   "metadata": {},
   "outputs": [],
   "source": [
    "woerter.append('!')\n",
    "print(woerter)"
   ]
  },
  {
   "cell_type": "code",
   "execution_count": null,
   "id": "e6bbd02c-b3c0-4939-b8f3-efe960a7401a",
   "metadata": {},
   "outputs": [],
   "source": [
    "woerter.insert(3,'viel')\n",
    "print(woerter)\n"
   ]
  },
  {
   "cell_type": "code",
   "execution_count": null,
   "id": "51960fa1-197b-43ad-877b-476ac07f71bb",
   "metadata": {},
   "outputs": [],
   "source": [
    "woerter.remove('viel')\n",
    "print(woerter)"
   ]
  },
  {
   "cell_type": "code",
   "execution_count": null,
   "id": "59330d52-cc75-4886-bebe-20cc280d2ee1",
   "metadata": {},
   "outputs": [],
   "source": [
    "woerter.pop(-1)\n",
    "print(woerter)"
   ]
  },
  {
   "cell_type": "code",
   "execution_count": null,
   "id": "7d161d6e-e39a-43ae-829f-cd7b6060d5f9",
   "metadata": {},
   "outputs": [],
   "source": [
    "woerter.insert(len(woerter)-1, 'viel')\n",
    "print(woerter)"
   ]
  },
  {
   "cell_type": "markdown",
   "id": "d820c0a2-4b3f-4f8e-a87b-3cb379d36378",
   "metadata": {},
   "source": [
    "<div class=\"fancy-box question\">\n",
    "<div class=\"fancy-box__img\"></div>\n",
    "<div class=\"fancy-box__text\">\n",
    "Wie greifen Sie auf das 3. Element zu?\n",
    "\n",
    "\n",
    "<code>woerter = [\"Python\", \"lernen\", \"macht\", \"Spaß\"]</code>\n",
    "\n",
    "- A) `woerter[1]`\n",
    "- B) `[3]`\n",
    "- C) `woerter[2]`\n",
    "- D) `woerter[3]`\n",
    "</div>\n",
    "<div class=\"fancy-box__img\"></div>\n",
    "</div>"
   ]
  },
  {
   "cell_type": "markdown",
   "id": "7054f972-173b-402d-8f46-b09c842d023c",
   "metadata": {},
   "source": [
    "<div class=\"fancy-box question\">\n",
    "<div class=\"fancy-box__img\"></div>\n",
    "<div class=\"fancy-box__text\">\n",
    "Wie erweitern Sie die Liste <code>woerter</code> zu <code>woerter = [\"Python\", \"lernen\", \"macht\", \"Spaß\", \"!\"]</code>?\n",
    "\n",
    "- A) `woerter.add(\"!\")`\n",
    "- B) `woerter[4] = \"!\"`\n",
    "- C) `woerter.insert(4, \"!\")`\n",
    "- D) `woerter.append(\"!\")`\n",
    "</div>\n",
    "<div class=\"fancy-box__img\"></div>\n",
    "</div>"
   ]
  },
  {
   "cell_type": "code",
   "execution_count": null,
   "id": "561c6121-730a-42a2-8d0c-9d17e59cc195",
   "metadata": {},
   "outputs": [],
   "source": [
    "woerter = [\"Python\", \"lernen\", \"macht\", \"Spaß\", \"!\"]"
   ]
  },
  {
   "cell_type": "code",
   "execution_count": null,
   "id": "82a73c57-7d4d-4122-87ad-842ec8e4e9b1",
   "metadata": {},
   "outputs": [],
   "source": [
    "woerter.append(\"!\")\n",
    "print(woerter)"
   ]
  },
  {
   "cell_type": "markdown",
   "id": "3d2cf7b0-6e09-4e02-9192-16fbbdb1245c",
   "metadata": {},
   "source": [
    "<div class=\"fancy-box question\">\n",
    "<div class=\"fancy-box__img\"></div>\n",
    "<div class=\"fancy-box__text\">\n",
    "Was gibt der folgende Code für die Liste <code>woerter = [\"Python\", \"lernen\", \"macht\", \"Spaß\", \"!\"]</code> zurück:\n",
    "    \n",
    "- A) `woerter[:-1]`\n",
    "- B) `woerter[2:]`\n",
    "- C) `woerter[1:1]`\n",
    "- D) `woerter[2:3]`\n",
    "</div>\n",
    "<div class=\"fancy-box__img\"></div>\n",
    "</div>"
   ]
  },
  {
   "cell_type": "code",
   "execution_count": null,
   "id": "88cfadc8-ea08-492e-af56-c2f0338f2fb5",
   "metadata": {},
   "outputs": [],
   "source": [
    "woerter[:-1]"
   ]
  },
  {
   "cell_type": "code",
   "execution_count": null,
   "id": "9a842ab2-d18f-4c94-9ea0-b14e1a02b56a",
   "metadata": {},
   "outputs": [],
   "source": [
    "woerter[2:]"
   ]
  },
  {
   "cell_type": "code",
   "execution_count": null,
   "id": "5f0a89ba-0e04-4e01-a3a6-994696ea3350",
   "metadata": {},
   "outputs": [],
   "source": [
    "woerter[1:2][0]"
   ]
  },
  {
   "cell_type": "code",
   "execution_count": null,
   "id": "56054a15-3309-471e-96da-ee88859af3af",
   "metadata": {},
   "outputs": [],
   "source": [
    "woerter[2:3]"
   ]
  },
  {
   "cell_type": "code",
   "execution_count": null,
   "id": "f557b1da-9be1-4ac6-b81b-fdb0e89a5933",
   "metadata": {},
   "outputs": [],
   "source": [
    "cities = [['Berlin','Hamburg','Karlsruhe'],\n",
    "          ['Paris', 'Strasbourg']    \n",
    "]"
   ]
  },
  {
   "cell_type": "code",
   "execution_count": null,
   "id": "39a3d969-4537-4cbf-b265-be424d898e84",
   "metadata": {},
   "outputs": [],
   "source": [
    "print(cities[0][2])"
   ]
  },
  {
   "cell_type": "markdown",
   "id": "842431f3-9fef-4255-9ed3-21de02818524",
   "metadata": {},
   "source": [
    "## Kontrollstrukturen <a name='bookmark4' />"
   ]
  },
  {
   "cell_type": "markdown",
   "id": "3a8b1db4-8b4c-49f7-a165-b26b21c67c30",
   "metadata": {},
   "source": [
    "### if-else Bedingung"
   ]
  },
  {
   "cell_type": "markdown",
   "id": "fcc108db-5607-46bc-acc3-c7fd6ca3928b",
   "metadata": {},
   "source": [
    "<div class=\"fancy-box definition\">\n",
    "<div class=\"fancy-box__img\"></div>\n",
    "<div class=\"fancy-box__text\">\n",
    "Der bisher betrachtete Code wurde von oben nach unten ausgeführt. Durch eine <b>Wenn-Dann-Struktur</b> (<i>engl. If-Else</i>) können Bedingungen für das Ausführen von Code implementiert werden.\n",
    "</div>\n",
    "<div class=\"fancy-box__img\"></div>\n",
    "</div>\n"
   ]
  },
  {
   "cell_type": "code",
   "execution_count": null,
   "id": "3983e043-3153-42e2-89c7-460ac8e5c934",
   "metadata": {},
   "outputs": [],
   "source": [
    "# if\n",
    "n = 7\n",
    "if n < 6:\n",
    "    print(str(n), \"ist kleiner als 6\")"
   ]
  },
  {
   "cell_type": "markdown",
   "id": "41a4cc1a-adb4-4886-9016-f65b4baafdaa",
   "metadata": {},
   "source": [
    "<div class=\"fancy-box definition\">\n",
    "<div class=\"fancy-box__img\"></div>\n",
    "<div class=\"fancy-box__text\">\n",
    "Python verwendet Einrückungen, um Codeblöcke zu definieren, anstelle von Klammern. Die Standardeinrückung in Python beträgt 4 Leerzeichen, obwohl Tabulatoren und jede andere Leerzeichengröße funktionieren, solange sie konsistent ist. Beachten Sie, dass Codeblöcke nicht abgeschlossen werden müssen.\n",
    "</div>\n",
    "<div class=\"fancy-box__img\"></div>\n",
    "</div>\n"
   ]
  },
  {
   "cell_type": "code",
   "execution_count": null,
   "id": "21a9366b-724f-4a14-9674-40172249f726",
   "metadata": {},
   "outputs": [],
   "source": [
    "# if\n",
    "n = 7\n",
    "if n < 6:\n",
    "    print(str(n), \"ist kleiner als 6\")\n",
    "print(\"Ich werde immer ausgegeben\")"
   ]
  },
  {
   "cell_type": "markdown",
   "id": "6de54e0b-e881-40f8-b2cc-3f986c7b976c",
   "metadata": {},
   "source": [
    "<div class=\"fancy-box definition\">\n",
    "<div class=\"fancy-box__img\"></div>\n",
    "<div class=\"fancy-box__text\">\n",
    "Die if-Struktur lässt sich um ein <b>else</b> erweitern, sodass im Falle eines nicht zutreffens der if-Bedingung, ein bestimmter Code ausgeführt wird.\n",
    "</div>\n",
    "<div class=\"fancy-box__img\"></div>\n",
    "</div>\n"
   ]
  },
  {
   "cell_type": "code",
   "execution_count": null,
   "id": "6328b058-494d-4487-9076-33334fe4e132",
   "metadata": {},
   "outputs": [],
   "source": [
    "n = 5\n",
    "if n < 6:\n",
    "    print(\"if-Block:\", str(n),\"ist kleiner als 6\")\n",
    "else:\n",
    "    print(\"else-Block:\", str(n), \"ist größer als oder gleich 6\")\n",
    "print(\"Ich werde immer ausgegeben\")"
   ]
  },
  {
   "cell_type": "markdown",
   "id": "60475a38-51c2-4ef0-9eb8-7a845ee73d7c",
   "metadata": {},
   "source": [
    "<div class=\"fancy-box python\">\n",
    "<div class=\"fancy-box__img\"></div>\n",
    "<div class=\"fancy-box__text\">\n",
    "Wie können die Bedingungn \"kleiner\", \"größer\" und \"gleich\" durch if und else Bedingungen abgefragt werden?\n",
    "</div>\n",
    "<div class=\"fancy-box__img\"></div>\n",
    "</div>"
   ]
  },
  {
   "cell_type": "code",
   "execution_count": null,
   "id": "d4041b12-39a9-4410-a72a-6c8c7a552dfe",
   "metadata": {},
   "outputs": [],
   "source": [
    "n = 5\n",
    "if n < 6:\n",
    "    print(\"if-Block:\", str(n),\"ist kleiner als 6\")\n",
    "elif n == 6:\n",
    "    print(\"elif-Block:\", str(n),\"ist gleich 6\")\n",
    "elif n > 6:\n",
    "    print(\"elif-Block:\", str(n), \"ist größer als 6\")\n",
    "\n",
    "print(\"Ich werde immer ausgegeben\")\n",
    "    "
   ]
  },
  {
   "cell_type": "code",
   "execution_count": null,
   "id": "7b49311d-15e4-41f2-b5d0-328f817b5569",
   "metadata": {},
   "outputs": [],
   "source": [
    "n = 7\n",
    "if n < 6:\n",
    "    print(\"if-Block:\", str(n),\"ist kleiner als 6\")\n",
    "else:\n",
    "    if n == 6:\n",
    "        print(\"else if-Block:\", str(n),\"ist gleich 6\")\n",
    "    else:\n",
    "        print(\"else-Block:\", str(n), \"ist größer als 6\")\n",
    "\n",
    "print(\"Ich werde immer ausgegeben\")"
   ]
  },
  {
   "cell_type": "markdown",
   "id": "03d9b488-6f56-428c-bbcc-4deb18e0b16b",
   "metadata": {},
   "source": [
    "### Boolean Operators"
   ]
  },
  {
   "cell_type": "markdown",
   "id": "6c0a8ba5-e93e-432a-848a-ac07e027a2a9",
   "metadata": {},
   "source": [
    "<div class=\"fancy-box definition\">\n",
    "<div class=\"fancy-box__img\"></div>\n",
    "<div class=\"fancy-box__text\">\n",
    "Python verwendet boolesche Algebra, um Bedingungen auszuwerten. Die booleschen Werte <i>Wahr</i> und <i>Falsch</i> werden zurückgegeben, wenn ein Ausdruck verglichen oder ausgewertet wird.\n",
    "</div>\n",
    "<div class=\"fancy-box__img\"></div>\n",
    "</div>"
   ]
  },
  {
   "cell_type": "code",
   "execution_count": null,
   "id": "6e8ecfd4-0db1-422b-a9f2-fadf09db031d",
   "metadata": {},
   "outputs": [],
   "source": [
    "x = 4\n",
    "print(x == 3)\n",
    "print(x < 3)\n",
    "print(x != 4)"
   ]
  },
  {
   "cell_type": "markdown",
   "id": "3dfdee40-5cb5-49a7-845c-a96d47eca579",
   "metadata": {},
   "source": [
    "<div class=\"fancy-box definition\">\n",
    "<div class=\"fancy-box__img\"></div>\n",
    "<div class=\"fancy-box__text\">\n",
    "Mit den booleschen Operatoren \"and\" und \"or\" lassen sich komplexe boolesche Ausdrücke bilden.<br> \n",
    "<i>Hinweis: Es gibt auch noch andere boolesche Operatoren wie \"in\" (z.B. um zu überprüfen, ob ein Element in einer Liste ist), \"is\", or \"not\".</i> \n",
    "</div>\n",
    "<div class=\"fancy-box__img\"></div>\n",
    "</div>"
   ]
  },
  {
   "cell_type": "code",
   "execution_count": null,
   "id": "6c8c5011-b9e4-41bf-a6f7-a8dfdf45d1fe",
   "metadata": {},
   "outputs": [],
   "source": [
    "# Example\n",
    "age = 30\n",
    "if (age >= 20) and (age <= 29):\n",
    "    print(\"Diese Person ist in ihren 20ern\")"
   ]
  },
  {
   "cell_type": "markdown",
   "id": "a98ad7f1-8ddf-476f-aed7-136ed1f99e89",
   "metadata": {},
   "source": [
    "<div class=\"fancy-box python\">\n",
    "<div class=\"fancy-box__img\"></div>\n",
    "<div class=\"fancy-box__text\">\n",
    "\n",
    "1. Überprüfen Sie mit dem \"in\" Operator, ob das Wort \"Spass\" in der Liste \"woerter\" ist.\n",
    "2. Definieren Sie zwei Listen mit gleichen Werten, aber unterschiedlichem Namen und überprüfen Sie, was der \"is\" Operator ausgibt, wenn Sie die beiden Listen miteinander vergleichen\n",
    "3. Überprüfen Sie was passiert, wenn Sie vor einen booleschen Wert den Operator \"not\" setzen.\n",
    "\n",
    "</div>\n",
    "<div class=\"fancy-box__img\"></div>\n",
    "</div>"
   ]
  },
  {
   "cell_type": "code",
   "execution_count": null,
   "id": "8a8699e0-5940-4384-a50d-48d8fd3aa104",
   "metadata": {},
   "outputs": [],
   "source": [
    "woerter = [\"Python\", \"lernen\", \"macht\", \"Spaß\", \"!\"]"
   ]
  },
  {
   "cell_type": "code",
   "execution_count": null,
   "id": "9f7c3eca-d58e-4186-986d-ae8b7702385d",
   "metadata": {},
   "outputs": [],
   "source": [
    "print(not \"Spaß\" in woerter)\n",
    "\n",
    "x = [1, 2, 3]\n",
    "y = [1, 2, 3]\n",
    "print(x == y)\n",
    "print(x is y)"
   ]
  },
  {
   "cell_type": "markdown",
   "id": "324e9908-a572-437c-a1c8-8249ecbbfbdd",
   "metadata": {},
   "source": [
    "<div class=\"fancy-box definition\">\n",
    "<div class=\"fancy-box__img\"></div>\n",
    "<div class=\"fancy-box__text\">\n",
    "Der <code>is</code> Operator wird als Identitätsoperator bezeichnet und wird verwendet, um zu prüfen, ob verschiedene Variablen auf dasselbe Objekt im Speicher verweisen. Der <code>==</code> Operator wird verwendet, um die Gleichheit von Objekten zu vergleichen.\n",
    "</div>\n",
    "<div class=\"fancy-box__img\"></div>\n",
    "</div>"
   ]
  },
  {
   "cell_type": "markdown",
   "id": "2e084666-eb47-42d4-b5eb-0a14940ac17f",
   "metadata": {},
   "source": [
    "<div class=\"fancy-box python\">\n",
    "<div class=\"fancy-box__img\"></div>\n",
    "<div class=\"fancy-box__text\">\n",
    "\n",
    "Definieren Sie zwei Variablen `country` und `age`. Schreiben Sie ein Programm das überprüft, ob eine Person aus den USA kommt und älter als 21 Jahre ist oder nicht aus den USA kommt und älter als 18 Jahre alt ist. Falls eine der Bedingungen zutrifft geben Sie eine Nachricht aus, dass diese Person Alkohol trinken darf.\n",
    "\n",
    "</div>\n",
    "<div class=\"fancy-box__img\"></div>\n",
    "</div>"
   ]
  },
  {
   "cell_type": "code",
   "execution_count": null,
   "id": "00a2c042-0a37-4d5c-bd3a-3bd707ddd5aa",
   "metadata": {},
   "outputs": [],
   "source": [
    "country = \"Fr\"\n",
    "age = 17\n",
    "if (country ==\"USA\" and age >= 21) or (country != \"USA\" and age >= 18):\n",
    "    print(\"Darf Alkohol trinken\")\n",
    "else:\n",
    "    print(\"Darf keinen Alkohol trinken\")"
   ]
  },
  {
   "cell_type": "markdown",
   "id": "e4cb97d1-4b86-4fbd-ae53-8a37c6af00bf",
   "metadata": {},
   "source": [
    "<div class=\"fancy-box python\">\n",
    "<div class=\"fancy-box__img\"></div>\n",
    "<div class=\"fancy-box__text\">\n",
    "\n",
    "Schreiben Sie ein Programm welches überprüft, ob eine Zahl gerade oder ungerade ist. Falls die Zahl gerade ist, soll der Text \"Die Zahl ist gerade\" ausgegeben werden. Ansonsten soll der Text \"Die Zahl ist ungerade\" ausgegeben werden. Am Ende soll das Programm mit einem freundlichen \"Auf Wiedersehen\" beendet werden.<br>\n",
    "<i>Hinweis: Um zu überprüfen, ob eine Zahl gerade oder ungerade ist, verwendet man am einfachsten die Modulo-Funktion (<code>%</code>)</i>\n",
    "</div>\n",
    "<div class=\"fancy-box__img\"></div>\n",
    "</div>"
   ]
  },
  {
   "cell_type": "code",
   "execution_count": null,
   "id": "a8bb75bd-4ed1-44a8-86ee-3a7b1691f8c4",
   "metadata": {},
   "outputs": [],
   "source": []
  },
  {
   "cell_type": "markdown",
   "id": "9cf2f465-9838-4338-ad8f-93bc7da1e1d6",
   "metadata": {},
   "source": [
    "### for-Schleifen"
   ]
  },
  {
   "cell_type": "markdown",
   "id": "07464d22-32ba-4038-90ae-619dc5e8a615",
   "metadata": {},
   "source": [
    "<div class=\"fancy-box definition\">\n",
    "<div class=\"fancy-box__img\"></div>\n",
    "<div class=\"fancy-box__text\">\n",
    "For-Schleifen iterieren über eine bestimmte Sequenz. D. h., eine Schleifenvariable durchläuft nacheinander die Werte in einer anzugebenden Sequenz. Bei dieser Sequenz kann es sich z. B. um eine Liste handeln.\n",
    "</div>\n",
    "<div class=\"fancy-box__img\"></div>\n",
    "</div>"
   ]
  },
  {
   "cell_type": "code",
   "execution_count": null,
   "id": "02d59b9d-dc4a-4f24-8278-75839c57419a",
   "metadata": {},
   "outputs": [],
   "source": [
    "for wort in woerter:\n",
    "    print(wort)"
   ]
  },
  {
   "cell_type": "code",
   "execution_count": null,
   "id": "6caf8a04-7a85-426d-afac-ab7c12c07bf2",
   "metadata": {},
   "outputs": [],
   "source": [
    "cities"
   ]
  },
  {
   "cell_type": "code",
   "execution_count": null,
   "id": "00815d44-f83f-45bf-afbc-4943dc56a737",
   "metadata": {},
   "outputs": [],
   "source": [
    "cities\n",
    "for ebene_1 in cities:\n",
    "    for city in ebene_1:\n",
    "        print(city)"
   ]
  },
  {
   "cell_type": "markdown",
   "id": "928aa434-7dcd-49ca-98ff-314ebb5a5a50",
   "metadata": {},
   "source": [
    "<div class=\"fancy-box python\">\n",
    "<div class=\"fancy-box__img\"></div>\n",
    "<div class=\"fancy-box__text\">\n",
    "\n",
    "Definieren Sie eine Liste mit beliebig vielen Zahlen (int und/oder float). Definieren Sie eine Variable <code>summe</code>. Iterieren Sie durch die Liste und summieren Sie alle Zahlen und speichern das Ergebnis in der Variablen <code>summe</code>. Geben Sie das Ergebnis aus.\n",
    "</div>\n",
    "<div class=\"fancy-box__img\"></div>\n",
    "</div>"
   ]
  },
  {
   "cell_type": "code",
   "execution_count": null,
   "id": "bcccf781-aa97-40b4-9309-0076c7e900b0",
   "metadata": {},
   "outputs": [],
   "source": [
    "numbers = [1, 2, 3, 4]\n",
    "summe = 0\n",
    "for x in numbers:\n",
    "    summe += x\n",
    "    #summe = summe + x\n",
    "print(summe)"
   ]
  },
  {
   "cell_type": "markdown",
   "id": "146af1b0-6bf1-4e75-a430-553666685aae",
   "metadata": {},
   "source": [
    "<div class=\"fancy-box python\">\n",
    "<div class=\"fancy-box__img\"></div>\n",
    "<div class=\"fancy-box__text\">\n",
    "\n",
    "Definieren Sie eine Liste mit beliebig vielen Zahlen (int und/oder float). Definieren Sie eine leere Liste <code>two_power</code>. Iterieren Sie durch die Liste mit Zahlen und potenzieren Sie die Zahl 2 mit den Zahlen in der Liste. Speichern Sie das jeweilige Ergebnis in die leere Liste. Geben Sie das Ergebnis aus.\n",
    "</div>\n",
    "<div class=\"fancy-box__img\"></div>\n",
    "</div>"
   ]
  },
  {
   "cell_type": "code",
   "execution_count": null,
   "id": "d756a4fc-0c62-4ce4-bc2a-9ff1545f4853",
   "metadata": {},
   "outputs": [],
   "source": [
    "numbers = [-0.5, 3, 8.7]\n",
    "two_power = []\n",
    "for x in numbers:\n",
    "    two_power.append(2**x)\n",
    "print(two_power)"
   ]
  },
  {
   "cell_type": "markdown",
   "id": "97925639-5f24-42f9-8dc1-eca3c89fdc45",
   "metadata": {},
   "source": [
    "#### Das Range-Objekt"
   ]
  },
  {
   "cell_type": "markdown",
   "id": "66d53ad9-5cb3-430d-85c2-b34a0eae962e",
   "metadata": {},
   "source": [
    "<div class=\"fancy-box definition\">\n",
    "<div class=\"fancy-box__img\"></div>\n",
    "<div class=\"fancy-box__text\">\n",
    "For-Schleifen können auch mit der Funktion \"range\" über eine Folge von Zahlen iterieren.\n",
    "</div>\n",
    "<div class=\"fancy-box__img\"></div>\n",
    "</div>"
   ]
  },
  {
   "cell_type": "code",
   "execution_count": null,
   "id": "04243cfc-0f76-4e1f-aa2a-56319810af16",
   "metadata": {},
   "outputs": [],
   "source": [
    "for i in range(20, 101, 2):\n",
    "    print(i)"
   ]
  },
  {
   "cell_type": "markdown",
   "id": "7154d0a0-12f5-4f80-ae65-845640fa22dc",
   "metadata": {},
   "source": [
    "<div class=\"fancy-box python\">\n",
    "<div class=\"fancy-box__img\"></div>\n",
    "<div class=\"fancy-box__text\">\n",
    "Summieren Sie alle (alle geraden) Zahlen zwischen 20 und 100 mit Hilfe des Range-Objektes und einer For-Schleife.\n",
    "</div>\n",
    "<div class=\"fancy-box__img\"></div>\n",
    "</div>"
   ]
  },
  {
   "cell_type": "code",
   "execution_count": null,
   "id": "bdf7578f-0a05-4fad-b09a-4875e2b043d4",
   "metadata": {},
   "outputs": [],
   "source": [
    "summe = 0\n",
    "for i in range(20, 101, 2):\n",
    "    summe += i\n",
    "print(summe)"
   ]
  },
  {
   "cell_type": "markdown",
   "id": "43c73edb-6c4b-48a8-b9ab-c0e2e0c5138d",
   "metadata": {},
   "source": [
    "### while-Schleifen"
   ]
  },
  {
   "cell_type": "markdown",
   "id": "b84d6329-9959-41e1-ba14-20b5674d24cc",
   "metadata": {},
   "source": [
    "<div class=\"fancy-box definition\">\n",
    "<div class=\"fancy-box__img\"></div>\n",
    "<div class=\"fancy-box__text\">\n",
    "Code in <b>While-Schleifen</b> wird so lange ausgeführt, bis eine boolesche Bedingung nicht (mehr) erfüllt, also eine Abbruchkriterium erfüllt ist.\n",
    "    <i>Hinweis: Innerhalb einer Schleife muss sich unbedingt ein Zustand in jedem Schritt verändern, damit die Schleifenbedingung nicht dauerhaft erfüllt ist, und das Programm die Schleife auch wieder verlassen kann</i>\n",
    "</div>\n",
    "<div class=\"fancy-box__img\"></div>\n",
    "</div>"
   ]
  },
  {
   "cell_type": "code",
   "execution_count": null,
   "id": "0fa32ea0-10c7-4699-9679-f9d826402101",
   "metadata": {},
   "outputs": [],
   "source": [
    "count = 0\n",
    "while count < 5:\n",
    "    print(count)\n",
    "    count = count + 1 # ist äquivalent zu count +=1"
   ]
  },
  {
   "cell_type": "code",
   "execution_count": null,
   "id": "5672c801-2b11-4738-b95a-9fcdeccc86d3",
   "metadata": {},
   "outputs": [],
   "source": [
    "count = 0\n",
    "while count < 5:\n",
    "    print(count)\n",
    "    count = count + 1 # ist äquivalent zu count +=1\n",
    "else:\n",
    "    print('Done, count = ',str(count))"
   ]
  },
  {
   "cell_type": "markdown",
   "id": "5d6dd77b-dace-46bf-9d55-04f8fa24323e",
   "metadata": {},
   "source": [
    "<div class=\"fancy-box python\">\n",
    "<div class=\"fancy-box__img\"></div>\n",
    "<div class=\"fancy-box__text\">\n",
    "\n",
    "Definieren Sie eine Variable 'zahl' und weisen Sie ihr den Wert 1 zu. Erhöhen Sie die Variable 'zahl' um eine ganze Zahl, bis die Zahl größer als 10 ist. Verwenden Sie hierzu eine while-Schleife. Addieren sie alle Zahlen, die bei den Schleifendurchläufen entstehen. \n",
    "</div>\n",
    "<div class=\"fancy-box__img\"></div>\n",
    "</div>"
   ]
  },
  {
   "cell_type": "code",
   "execution_count": null,
   "id": "7ab6d045-a644-4616-8666-9922ff426bf5",
   "metadata": {},
   "outputs": [],
   "source": [
    "zahl = 1\n",
    "summe = 0\n",
    "while zahl <= 10:\n",
    "    print(zahl)\n",
    "    zahl += 1 #oder zahl = zahl + 1\n",
    "    summe = summe + zahl\n",
    "print(\"Das Ergebnis ist\", str(summe))"
   ]
  },
  {
   "cell_type": "code",
   "execution_count": null,
   "id": "de0671d2-2694-41ec-9236-b519e44c2c26",
   "metadata": {},
   "outputs": [],
   "source": [
    "import random #importiert Paket random\n",
    "n = 20\n",
    "number = int(n * random.random()) + 1 #Generiert ganze Zahl zwischen 1 und 20\n",
    "\n",
    "print('I thought of a number 1...20 and you have to guess it.')\n",
    "\n",
    "guess = 0\n",
    "\n",
    "while guess != number:\n",
    "    guesstext = input('Guess (negative number to quit): ')\n",
    "    guess = int(guesstext)\n",
    "    if guess > 0:\n",
    "        if guess > number:\n",
    "            print('Number too large')\n",
    "        elif guess < number:\n",
    "            print('Number too small')\n",
    "    else:\n",
    "        print('You are giving up...? What a pity!')\n",
    "        break\n",
    "else:\n",
    "    print('You got it - congratulations!')\n",
    "\n",
    "print('Well, see you later...')"
   ]
  }
 ],
 "metadata": {
  "kernelspec": {
   "display_name": "Python 3 (ipykernel)",
   "language": "python",
   "name": "python3"
  },
  "language_info": {
   "codemirror_mode": {
    "name": "ipython",
    "version": 3
   },
   "file_extension": ".py",
   "mimetype": "text/x-python",
   "name": "python",
   "nbconvert_exporter": "python",
   "pygments_lexer": "ipython3",
   "version": "3.11.7"
  }
 },
 "nbformat": 4,
 "nbformat_minor": 5
}
