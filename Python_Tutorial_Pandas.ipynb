{
 "cells": [
  {
   "cell_type": "markdown",
   "id": "fd1558ab",
   "metadata": {},
   "source": [
    "# Python Tutorial"
   ]
  },
  {
   "cell_type": "markdown",
   "id": "ef69d6ae",
   "metadata": {},
   "source": [
    "## Kurzhinweise\n",
    "Sie können eine Zelle ausführen, indem Sie in die Zelle klicken und dann \"Shift + Enter\" drücken.\n",
    "\n",
    "Bitte führen Sie die Zellen nacheinander aus, da einige Zellen auf den Input vorheriger Zellen angewiesen sind. Falls Sie \"mitten im Notebook\" anfangen werden Sie das aber ggf. merken, wenn Sie eine Fehlermeldung erhalten.\n",
    "\n",
    "Die nächste Zelle bitte ausführen aber **nicht** verändern. Sie sorgt für das Layout des Notebooks."
   ]
  },
  {
   "cell_type": "code",
   "execution_count": null,
   "id": "f1e0dc72",
   "metadata": {},
   "outputs": [],
   "source": [
    "from IPython.core.display import HTML\n",
    "\n",
    "def _set_css_style(css_file_path):\n",
    "   \"\"\"\n",
    "   Read the custom CSS file and load it into Jupyter.\n",
    "   Pass the file path to the CSS file.\n",
    "   \"\"\"\n",
    "\n",
    "   styles = open(css_file_path, \"r\").read()\n",
    "   s = '<style>%s</style>' % styles     \n",
    "   return HTML(s)\n",
    "\n",
    "_set_css_style('assets/styles.css')"
   ]
  },
  {
   "cell_type": "markdown",
   "id": "5acce43f-a185-4d62-9a5c-26e03772b366",
   "metadata": {},
   "source": [
    "# Agenda\n",
    "1) <a href=#bookmark5>Pandas</a><br></br>\n",
    "2) <a href=#bookmark6>Exercise</a><br></br>\n"
   ]
  },
  {
   "cell_type": "markdown",
   "id": "bd3915c6-c3a3-4bad-82fd-f11ff9b13f6c",
   "metadata": {},
   "source": [
    "## Pandas <a name='bookmark5' />"
   ]
  },
  {
   "cell_type": "markdown",
   "id": "a419d071-9dae-426a-acba-d05383bfab77",
   "metadata": {},
   "source": [
    "<div class=\"fancy-box definition\">\n",
    "<div class=\"fancy-box__img\"></div>\n",
    "<div class=\"fancy-box__text\">\n",
    "<b>pandas</b> ist eine open-source Programmbibliothek für Python. Sie verfügt über Funktionen zum Analysieren, Bereinigen, Erkunden, Manipulieren und Darstellen von Daten. Insbesondere enthält sie Datenstrukturen und Operatoren für den Zugriff auf numerische Tabellen und Zeitreihen. Der Name leitet sich von dem englischen Begriff <b>panel data</b> (Paneldaten) ab. Die wichtigste Datenstruktur ist das <b>DataFrame</b>.\n",
    "</div>\n",
    "<div class=\"fancy-box__img\"></div>\n",
    "</div>"
   ]
  },
  {
   "cell_type": "code",
   "execution_count": 1,
   "id": "2cb9d38a-982f-40a8-a392-41d9c51ecac5",
   "metadata": {},
   "outputs": [],
   "source": [
    "import pandas as pd\n"
   ]
  },
  {
   "cell_type": "code",
   "execution_count": null,
   "id": "4190d585-ba62-4230-b3de-c0c2a6d2fbc8",
   "metadata": {},
   "outputs": [],
   "source": []
  },
  {
   "cell_type": "code",
   "execution_count": null,
   "id": "c01a0508-1e8a-41a8-929c-162b64f76304",
   "metadata": {},
   "outputs": [],
   "source": []
  },
  {
   "cell_type": "markdown",
   "id": "0ec47782-2b50-43e8-8667-bc69c2671561",
   "metadata": {},
   "source": [
    "<div class=\"fancy-box definition\">\n",
    "<div class=\"fancy-box__img\"></div>\n",
    "<div class=\"fancy-box__text\">\n",
    "Das DataFrame ist sehr umfangreich und in seiner gesamten Darstellung geradezu erschlagend. Um einen Überblick über ein DataFrame zu verschaffen, gibt es verschiedene Methoden. Für einen ersten Überblick sind v. a. die Methoden <code>head()</code>, <code>info()</code>, <code>describe()</code> nützlich.\n",
    "</div>\n",
    "<div class=\"fancy-box__img\"></div>\n",
    "</div>"
   ]
  },
  {
   "cell_type": "code",
   "execution_count": null,
   "id": "7829b85b-00e9-41af-9492-109edf9a0d3c",
   "metadata": {},
   "outputs": [],
   "source": []
  },
  {
   "cell_type": "code",
   "execution_count": null,
   "id": "1370bab0-2a73-41c9-bad3-f8aaff999186",
   "metadata": {},
   "outputs": [],
   "source": []
  },
  {
   "cell_type": "code",
   "execution_count": null,
   "id": "702ebd4e-c6af-44de-b915-d5d8e72454df",
   "metadata": {},
   "outputs": [],
   "source": []
  },
  {
   "cell_type": "markdown",
   "id": "ac3e9e08-c787-404f-a8e3-a4a6a51d78f5",
   "metadata": {},
   "source": [
    "### DataFrames Filtern"
   ]
  },
  {
   "cell_type": "markdown",
   "id": "781284bb-a0be-484c-b72a-bf38be571813",
   "metadata": {},
   "source": [
    "<div class=\"fancy-box python\">\n",
    "<div class=\"fancy-box__img\"></div>\n",
    "<div class=\"fancy-box__text\">\n",
    "Es kann mittels der Syntax <i>df_name</i>[<i>'Spaltenname'</i>] auf eine Spalte in einem Dataframe zugegriffen werden. Mittels der <code>loc</code> und <code>iloc</code> Methoden kann auf eine Zeile/Zeilen zugegriffen werden (Syntax: <i>df_name</i>.iloc['Zeilennummer']. Probieren Sie es aus. Was ist der Unterschied zwischen <code>loc</code> und <code>iloc</code>?\n",
    "</div>\n",
    "<div class=\"fancy-box__img\"></div>\n",
    "</div>"
   ]
  },
  {
   "cell_type": "code",
   "execution_count": null,
   "id": "b5e1a23d-de27-424f-9b00-d7fdb3725651",
   "metadata": {
    "scrolled": true
   },
   "outputs": [],
   "source": []
  },
  {
   "cell_type": "code",
   "execution_count": null,
   "id": "c90c3882-931b-438b-bc07-67bb26344a24",
   "metadata": {},
   "outputs": [],
   "source": []
  },
  {
   "cell_type": "code",
   "execution_count": null,
   "id": "a0729e4c-4b4b-4e86-8105-5d6628e3b7e6",
   "metadata": {},
   "outputs": [],
   "source": []
  },
  {
   "cell_type": "code",
   "execution_count": null,
   "id": "ee5246f5-ab02-45aa-8fe0-4b0dae632562",
   "metadata": {},
   "outputs": [],
   "source": []
  },
  {
   "cell_type": "code",
   "execution_count": null,
   "id": "975fbe6b-1710-49fa-9c11-483d5f43b8e9",
   "metadata": {},
   "outputs": [],
   "source": []
  },
  {
   "cell_type": "code",
   "execution_count": null,
   "id": "fce362c3-2392-416d-9185-511adc8b2e2e",
   "metadata": {},
   "outputs": [],
   "source": []
  },
  {
   "cell_type": "code",
   "execution_count": null,
   "id": "07cecd0d-9195-490c-9fd4-f46038185e0e",
   "metadata": {},
   "outputs": [],
   "source": []
  },
  {
   "cell_type": "markdown",
   "id": "01a5e09a-f743-4801-9fc3-c2c081e8e878",
   "metadata": {},
   "source": [
    "<div class=\"fancy-box definition\">\n",
    "<div class=\"fancy-box__img\"></div>\n",
    "<div class=\"fancy-box__text\">\n",
    "<code>loc</code> berücksichtigt Zeilen auf der Grundlage von Indexbezeichnungen. <code>iloc</code> hingegen berücksichtigt Zeilen auf der Grundlage der Position im Index und nimmt daher nur Ganzzahlen.</div>\n",
    "<div class=\"fancy-box__img\"></div>\n",
    "</div>"
   ]
  },
  {
   "cell_type": "markdown",
   "id": "47155c61-2060-4fab-9ccc-ee8942b76bef",
   "metadata": {},
   "source": [
    "<div class=\"fancy-box python\">\n",
    "<div class=\"fancy-box__img\"></div>\n",
    "<div class=\"fancy-box__text\">\n",
    "Oft soll ein DataFrame nicht nur nach Spalte oder Zeile sondern auch nach dessen Inhalt gefiltert. Hierfür benötigt man die booleschen Operatoren und ggf. die <code>loc</code> Methode.<br>\n",
    "Im Folgenden wird das DataFrame nach bestimmten Kriterien gefiltert. \n",
    "</div>\n",
    "<div class=\"fancy-box__img\"></div>\n",
    "</div>"
   ]
  },
  {
   "cell_type": "code",
   "execution_count": null,
   "id": "9882b145-6677-43fc-93c0-0687c8bb207f",
   "metadata": {},
   "outputs": [],
   "source": []
  },
  {
   "cell_type": "code",
   "execution_count": null,
   "id": "e45743e3-e41f-42f8-9a5b-2d6b92d4e1b1",
   "metadata": {},
   "outputs": [],
   "source": []
  },
  {
   "cell_type": "code",
   "execution_count": null,
   "id": "8e5e5f01-cce5-4b6a-bf51-f4f79718120b",
   "metadata": {
    "scrolled": true
   },
   "outputs": [],
   "source": []
  },
  {
   "cell_type": "code",
   "execution_count": null,
   "id": "d99415a0-435f-402a-879c-02cee4f11b42",
   "metadata": {},
   "outputs": [],
   "source": []
  },
  {
   "cell_type": "code",
   "execution_count": null,
   "id": "74c55d53-e7db-4351-aca7-c6fa5f954c27",
   "metadata": {
    "scrolled": true
   },
   "outputs": [],
   "source": []
  },
  {
   "cell_type": "markdown",
   "id": "579e400a-bdb9-46f1-834a-e105f28766ca",
   "metadata": {},
   "source": [
    "<div class=\"fancy-box python\">\n",
    "<div class=\"fancy-box__img\"></div>\n",
    "<div class=\"fancy-box__text\">\n",
    "Btw: mit der <code>sort_values[<i>'Spaltenname'</i>]</code> Methoden, kann ein DataFrame nach einer bestimmten Spalte sortiert werden.\n",
    "</div>\n",
    "<div class=\"fancy-box__img\"></div>\n",
    "</div>"
   ]
  },
  {
   "cell_type": "code",
   "execution_count": null,
   "id": "509ed51f-0277-4481-98f4-1405c1db16c3",
   "metadata": {
    "scrolled": true
   },
   "outputs": [],
   "source": []
  },
  {
   "cell_type": "code",
   "execution_count": null,
   "id": "7829dcf9-f8dd-4dda-a4f1-e5f48254bfe9",
   "metadata": {},
   "outputs": [],
   "source": []
  },
  {
   "cell_type": "code",
   "execution_count": null,
   "id": "4410ae03-defc-484e-8bda-191d5c58dd12",
   "metadata": {},
   "outputs": [],
   "source": []
  },
  {
   "cell_type": "code",
   "execution_count": null,
   "id": "46cbd59a-ef3a-445a-a696-9bf3ea2cd870",
   "metadata": {},
   "outputs": [],
   "source": []
  },
  {
   "cell_type": "markdown",
   "id": "3b578e09-973b-4dde-a94c-488dd81db6f4",
   "metadata": {},
   "source": [
    "<div class=\"fancy-box python\">\n",
    "<div class=\"fancy-box__img\"></div>\n",
    "<div class=\"fancy-box__text\">\n",
    "Filtern Sie das DataFrame <code>df</code> nach Ländern, die weniger als 5 Liter Wein konsumieren aber mehr als 5 Liter reinen Alkohol. Geben Sie nur die Spalten country und continent aus.\n",
    "</div>\n",
    "<div class=\"fancy-box__img\"></div>\n",
    "</div>"
   ]
  },
  {
   "cell_type": "code",
   "execution_count": null,
   "id": "9869999d-2999-4341-84eb-152c5fbb05d4",
   "metadata": {},
   "outputs": [],
   "source": []
  },
  {
   "cell_type": "markdown",
   "id": "bf55d57c-49e1-4ca2-8467-b8351786e4c7",
   "metadata": {},
   "source": [
    "### Groupby"
   ]
  },
  {
   "cell_type": "markdown",
   "id": "164035ba-f35f-463c-ae11-5142fde51202",
   "metadata": {},
   "source": [
    "<div class=\"fancy-box python\">\n",
    "<div class=\"fancy-box__img\"></div>\n",
    "<div class=\"fancy-box__text\">\n",
    "Berechnen Sie von jedem Kontinent die durchschnittliche Menge an konsumiertem Bier. Nutzen Sie hierfür die Funktion <code>mean()</code>.<br>\n",
    "<i>Hinweis: in den eingelesenen Daten kommen 'Africa', 'Asia', 'Europe', 'North America', 'Oceania', 'South America' als Kontinente vor</i>.\n",
    "\n",
    "</div>\n",
    "<div class=\"fancy-box__img\"></div>\n",
    "</div>"
   ]
  },
  {
   "cell_type": "code",
   "execution_count": null,
   "id": "f34465ce-12e7-4304-9faf-81a5cf69e0fb",
   "metadata": {},
   "outputs": [],
   "source": []
  },
  {
   "cell_type": "markdown",
   "id": "b1824f59-2a51-49d8-95a7-e807da5ff7ba",
   "metadata": {},
   "source": [
    "<div class=\"fancy-box definition\">\n",
    "<div class=\"fancy-box__img\"></div>\n",
    "<div class=\"fancy-box__text\">\n",
    "Um Daten auf der Ebene von Kategorien zu analysieren, ist <b>groupby</b> die geeignete Methode. Mit groupby ist ein Prozess gemeint, der einen oder mehrere der folgenden Schritte umfasst:</br>\n",
    "- <b>Split</b> teilt die Daten in Gruppen nach bestimmten Kriterien auf</br>\n",
    "- <b>Apply</b> wendet eine Funktion unabhängig auf jede Gruppe an</br>\n",
    "- <b>Combine</b> kombiniert die Ergebnisse in einer Datenstruktur\n",
    "</div>\n",
    "<div class=\"fancy-box__img\"></div>\n",
    "</div>"
   ]
  },
  {
   "cell_type": "code",
   "execution_count": null,
   "id": "3dd60139-f95d-42cf-8d56-c986ab53bf63",
   "metadata": {},
   "outputs": [],
   "source": []
  },
  {
   "cell_type": "markdown",
   "id": "a20769bd-47af-4743-bba1-5ebf46c8a688",
   "metadata": {},
   "source": [
    "<div class=\"fancy-box definition\">\n",
    "<div class=\"fancy-box__img\"></div>\n",
    "<div class=\"fancy-box__text\">\n",
    "mean() ist nur eine von vielen Aggregationsfunktionen. Weitere sind min(), max(), sum(), count() und viele mehr. Um mehrere dieser Funktionen auf einmal anzuwenden, kann man die Methode agg() nutzen.\n",
    "</div>\n",
    "<div class=\"fancy-box__img\"></div>\n",
    "</div>"
   ]
  },
  {
   "cell_type": "code",
   "execution_count": null,
   "id": "85869beb-1de9-4f2f-8e0d-39fce6b91e73",
   "metadata": {},
   "outputs": [],
   "source": []
  },
  {
   "cell_type": "markdown",
   "id": "ba884009-7662-4d69-b058-c035e6bad321",
   "metadata": {},
   "source": [
    "# Exercise <a name='bookmark6' />"
   ]
  },
  {
   "cell_type": "markdown",
   "id": "79b6ad28-6924-44c2-ba15-8b6e49d898ec",
   "metadata": {},
   "source": [
    "1. Lesen Sie das Titanic Datenset ein (Pfad: 'input/titanic.csv') und speichern Sie es in einem DataFrame mit Namen df"
   ]
  },
  {
   "cell_type": "code",
   "execution_count": null,
   "id": "02ecff90-968b-4ac5-963d-906c86260f36",
   "metadata": {},
   "outputs": [],
   "source": []
  },
  {
   "cell_type": "markdown",
   "id": "5ab24755-8105-4218-b4cf-33cbc8d6486a",
   "metadata": {},
   "source": [
    "2. Löschen Sie die Spalte 'PassengerId' aus dem DataFrame mit der Methode drop(columns = *Spaltenname*, inplace = True)"
   ]
  },
  {
   "cell_type": "code",
   "execution_count": null,
   "id": "a4d99c3b-af99-4de9-943f-605b48bb988b",
   "metadata": {},
   "outputs": [],
   "source": []
  },
  {
   "cell_type": "markdown",
   "id": "4b500507-9f4d-465c-a9c3-3ae336877a56",
   "metadata": {},
   "source": [
    "__Description of columns:__\n",
    "- *Survived*: Boolean (0 = not survived, 1 = survived). This is our __target__\n",
    "- *Pclass*: Travel class (1 = 1st; 2 = 2nd; 3 = 3rd)\n",
    "- Name: Title, given name and surname\n",
    "- Sex: male or female\n",
    "- Age: Age of passenger\n",
    "- SibSp: Number of siblings and/or spouses aboard\n",
    "- Parch: Number of parents or children aboard\n",
    "- Ticket: Ticket number.\n",
    "- Fare: Ticket price.\n",
    "- Cabin: Cabin in which passenger lived during the stay on the Titanic\n",
    "- Embarked: Where did the passengers go aboard (C = Cherbourg; Q = Queenstown; S = Southampton)"
   ]
  },
  {
   "cell_type": "markdown",
   "id": "6b70d2e3-4246-4517-b53c-3716b5e144f4",
   "metadata": {},
   "source": [
    "3. Verschaffen Sie sich einen Überblick über das DataFrame"
   ]
  },
  {
   "cell_type": "code",
   "execution_count": null,
   "id": "2926ae20-e5ad-4590-8f14-3aa065dc4040",
   "metadata": {},
   "outputs": [],
   "source": []
  },
  {
   "cell_type": "code",
   "execution_count": null,
   "id": "5fe1030e-197a-4b53-94bf-99d6a786a1c8",
   "metadata": {},
   "outputs": [],
   "source": []
  },
  {
   "cell_type": "markdown",
   "id": "c3b8bf29-f2d3-4ded-8add-889f71f2c5df",
   "metadata": {},
   "source": [
    "<div class=\"fancy-box question\">\n",
    "<div class=\"fancy-box__img\"></div>\n",
    "<div class=\"fancy-box__text\">\n",
    "    \n",
    "Beantworten Sie folgende Fragen:<br>\n",
    "    1) Wie groß ist das Dataframe?<br>\n",
    "    2) Filtern Sie das Dataframe auf weibliche Personen!<br>\n",
    "    3) Filtern Sie das Dataframe auf weibliche Personen, die älter sind als 35 Jahre!<br>\n",
    "    4) Geben Sie die Namen und PClass der weiblichen Personen aus, die älter als 35 Jahre sind oder überlebt haben!<br>\n",
    "    5) Filtern Sie das Dataframe auf Personen, die älter sind als das mittlere Alter der Passagiere an Bord!<br>\n",
    "    6) Welche weibliche Person ist mit 5 SibSp an Bord?<br>\n",
    "    7) Wie viel Prozent der weiblichen und wie Prozent der männliche Personen haben überlebt?<br>\n",
    "    8) Wie viele weibliche und wie viele männliche Personen haben in den jeweiligen Passagierklassen überlebt?<br>\n",
    "    9) Wie viele weiblichen Personen gibt es pro PClass, die älter als 35 Jahre sind oder überlebt haben! (Nutzen Sie das Ergebnis aus 4))<br>\n",
    "</div>\n",
    "<div class=\"fancy-box__img\"></div>\n",
    "</div>"
   ]
  },
  {
   "cell_type": "code",
   "execution_count": null,
   "id": "151c47e2-8aa7-4df3-bb33-ecc2d5f4085a",
   "metadata": {},
   "outputs": [],
   "source": [
    "#1\n",
    "\n"
   ]
  },
  {
   "cell_type": "code",
   "execution_count": null,
   "id": "f9d60dc1-c749-4a18-886d-43024aea1c15",
   "metadata": {
    "scrolled": true
   },
   "outputs": [],
   "source": [
    "#2\n"
   ]
  },
  {
   "cell_type": "code",
   "execution_count": null,
   "id": "496a3946-38cb-4a17-8ecb-e026e15623d5",
   "metadata": {
    "scrolled": true
   },
   "outputs": [],
   "source": [
    "#3\n"
   ]
  },
  {
   "cell_type": "code",
   "execution_count": null,
   "id": "257258db-6cd7-4337-a098-a4940d8deaf5",
   "metadata": {},
   "outputs": [],
   "source": [
    "#4\n"
   ]
  },
  {
   "cell_type": "code",
   "execution_count": null,
   "id": "a6273157-15e5-4e55-9320-e3e2fd01c76b",
   "metadata": {},
   "outputs": [],
   "source": [
    "#5\n"
   ]
  },
  {
   "cell_type": "code",
   "execution_count": null,
   "id": "afdbf0cb-ad76-4cf9-b290-fe52ae0f3084",
   "metadata": {},
   "outputs": [],
   "source": [
    "#5\n"
   ]
  },
  {
   "cell_type": "code",
   "execution_count": null,
   "id": "1c755873-ca52-43c1-a831-530aef933f46",
   "metadata": {},
   "outputs": [],
   "source": [
    "#6\n"
   ]
  },
  {
   "cell_type": "code",
   "execution_count": null,
   "id": "19dcdf01-8b3c-4b06-a3ef-b2d63ed6c769",
   "metadata": {},
   "outputs": [],
   "source": [
    "#7\n"
   ]
  },
  {
   "cell_type": "code",
   "execution_count": null,
   "id": "27ff8d66-2eb1-4b1d-80a8-c497ec10b782",
   "metadata": {},
   "outputs": [],
   "source": [
    "#8\n"
   ]
  },
  {
   "cell_type": "code",
   "execution_count": null,
   "id": "be53f487-c1bc-4019-b2c8-6c6c6d935c13",
   "metadata": {},
   "outputs": [],
   "source": [
    "#9\n"
   ]
  }
 ],
 "metadata": {
  "kernelspec": {
   "display_name": "tutorial",
   "language": "python",
   "name": "tutorial"
  },
  "language_info": {
   "codemirror_mode": {
    "name": "ipython",
    "version": 3
   },
   "file_extension": ".py",
   "mimetype": "text/x-python",
   "name": "python",
   "nbconvert_exporter": "python",
   "pygments_lexer": "ipython3",
   "version": "3.10.10"
  }
 },
 "nbformat": 4,
 "nbformat_minor": 5
}
